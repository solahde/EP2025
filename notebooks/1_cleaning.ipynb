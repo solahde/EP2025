{
 "cells": [
  {
   "cell_type": "markdown",
   "metadata": {},
   "source": [
    "Setting up the dataframe"
   ]
  },
  {
   "cell_type": "code",
   "execution_count": 3,
   "metadata": {},
   "outputs": [],
   "source": [
    "import pandas as pd"
   ]
  },
  {
   "cell_type": "code",
   "execution_count": 4,
   "metadata": {},
   "outputs": [],
   "source": [
    "df_raw = pd.read_excel(\"../data/xxxx.xlsx\")"
   ]
  },
  {
   "cell_type": "code",
   "execution_count": 5,
   "metadata": {},
   "outputs": [
    {
     "data": {
      "text/plain": [
       "Index(['Task ID', 'Task Name', 'Bucket Name', 'Progress', 'Priority',\n",
       "       'Assigned To', 'Created By', 'Created Date', 'Start date', 'Due date',\n",
       "       'Is Recurring', 'Late', 'Completed Date', 'Completed By',\n",
       "       'Completed Checklist Items', 'Checklist Items', 'Labels',\n",
       "       'Description'],\n",
       "      dtype='object')"
      ]
     },
     "execution_count": 5,
     "metadata": {},
     "output_type": "execute_result"
    }
   ],
   "source": [
    "columns_raw = df_raw.columns\n",
    "columns_raw"
   ]
  },
  {
   "cell_type": "code",
   "execution_count": 6,
   "metadata": {},
   "outputs": [
    {
     "name": "stdout",
     "output_type": "stream",
     "text": [
      "      Progress   Priority  Start date  Labels\n",
      "0  Not started     Medium  31/03/2025  Yellow\n",
      "1  In progress     Medium  31/03/2025    Blue\n",
      "2  Not started  Important  28/03/2025  Yellow\n",
      "3  Not started     Medium  31/03/2025  Yellow\n",
      "4  In progress     Medium  28/03/2025    Blue\n"
     ]
    }
   ],
   "source": [
    "df = df_raw[[\"Progress\",\"Priority\",\"Start date\",\"Labels\"]]\n",
    "print(df.head())"
   ]
  },
  {
   "cell_type": "code",
   "execution_count": 7,
   "metadata": {},
   "outputs": [
    {
     "name": "stdout",
     "output_type": "stream",
     "text": [
      "       Progress   Priority  Start date  Labels\n",
      "0   Not started     Medium  31/03/2025  Yellow\n",
      "1   In progress     Medium  31/03/2025    Blue\n",
      "2   Not started  Important  28/03/2025  Yellow\n",
      "3   Not started     Medium  31/03/2025  Yellow\n",
      "4   In progress     Medium  28/03/2025    Blue\n",
      "5   Not started  Important  28/03/2025    Blue\n",
      "6   Not started     Medium  27/03/2025    Blue\n",
      "7   Not started     Medium  27/03/2025    Blue\n",
      "8   Not started     Medium  27/03/2025   Green\n",
      "10  Not started        Low  27/03/2025    Blue\n"
     ]
    }
   ],
   "source": [
    "df_cleaned = df.dropna()\n",
    "print(df_cleaned.head(10))"
   ]
  },
  {
   "cell_type": "code",
   "execution_count": 8,
   "metadata": {},
   "outputs": [
    {
     "name": "stdout",
     "output_type": "stream",
     "text": [
      "Progress      object\n",
      "Priority      object\n",
      "Start date    object\n",
      "Labels        object\n",
      "dtype: object\n"
     ]
    }
   ],
   "source": [
    "print(df_cleaned.dtypes)"
   ]
  },
  {
   "cell_type": "code",
   "execution_count": 9,
   "metadata": {},
   "outputs": [
    {
     "name": "stdout",
     "output_type": "stream",
     "text": [
      "Progress              object\n",
      "Priority              object\n",
      "Start date    datetime64[ns]\n",
      "Labels                object\n",
      "dtype: object\n",
      "      Progress   Priority Start date  Labels\n",
      "0  Not started     Medium 2025-03-31  Yellow\n",
      "1  In progress     Medium 2025-03-31    Blue\n",
      "2  Not started  Important 2025-03-28  Yellow\n"
     ]
    },
    {
     "name": "stderr",
     "output_type": "stream",
     "text": [
      "/tmp/ipykernel_7351/672462750.py:2: SettingWithCopyWarning: \n",
      "A value is trying to be set on a copy of a slice from a DataFrame.\n",
      "Try using .loc[row_indexer,col_indexer] = value instead\n",
      "\n",
      "See the caveats in the documentation: https://pandas.pydata.org/pandas-docs/stable/user_guide/indexing.html#returning-a-view-versus-a-copy\n",
      "  df_cleaned[\"Start date\"] = df_cleaned[\"Start date\"].astype(\"datetime64[ns]\")  # Ensures it's fully datetime\n"
     ]
    }
   ],
   "source": [
    "df_cleaned.loc[:, \"Start date\"] = pd.to_datetime(df_cleaned[\"Start date\"], format=\"%d/%m/%Y\")\n",
    "df_cleaned[\"Start date\"] = df_cleaned[\"Start date\"].astype(\"datetime64[ns]\")  # Ensures it's fully datetime  \n",
    "\n",
    "print(df_cleaned.dtypes)\n",
    "print(df_cleaned.head(3))"
   ]
  },
  {
   "cell_type": "markdown",
   "metadata": {},
   "source": [
    "Countries"
   ]
  },
  {
   "cell_type": "code",
   "execution_count": 10,
   "metadata": {},
   "outputs": [
    {
     "name": "stdout",
     "output_type": "stream",
     "text": [
      "3 countries added - No need for changes\n"
     ]
    }
   ],
   "source": [
    "unique_countries = df_cleaned[\"Labels\"].unique()\n",
    "\n",
    "if len(unique_countries) > 3:\n",
    "    print(\"New countrie needs to be added to the list!!\")\n",
    "    print(\"Makes changes also to Number of Q.\")\n",
    "else:\n",
    "    df_cleaned.loc[:,\"Labels\"] = df_cleaned[\"Labels\"].replace({\"Blue\": \"FI\", \"Yellow\": \"SWE\", \"Green\": \"NO\"})\n",
    "    print(f\"{len(unique_countries)} countries added - No need for changes\")"
   ]
  },
  {
   "cell_type": "markdown",
   "metadata": {},
   "source": [
    "First&Last dates"
   ]
  },
  {
   "cell_type": "code",
   "execution_count": 11,
   "metadata": {},
   "outputs": [
    {
     "name": "stdout",
     "output_type": "stream",
     "text": [
      "First date: 2025-03-03 00:00:00\n",
      "Last date: 2025-03-31 00:00:00\n"
     ]
    }
   ],
   "source": [
    "first_date = df_cleaned[\"Start date\"].min()\n",
    "last_date = df_cleaned[\"Start date\"].max()\n",
    "\n",
    "print(\"First date:\", first_date)\n",
    "print(\"Last date:\", last_date)"
   ]
  },
  {
   "cell_type": "markdown",
   "metadata": {},
   "source": [
    "Number of Q."
   ]
  },
  {
   "cell_type": "code",
   "execution_count": 12,
   "metadata": {},
   "outputs": [
    {
     "name": "stdout",
     "output_type": "stream",
     "text": [
      "FI count: 38\n",
      "SWE count: 16\n",
      "NO count: 3\n",
      "TOTAL count: 57\n"
     ]
    }
   ],
   "source": [
    "fi_question = df_cleaned[\"Labels\"].value_counts().get(\"FI\") \n",
    "swe_question = df_cleaned[\"Labels\"].value_counts().get(\"SWE\") \n",
    "no_question = df_cleaned[\"Labels\"].value_counts().get(\"NO\") \n",
    "total_questions = fi_question + swe_question + no_question\n",
    "\n",
    "print(\"FI count:\", fi_question)\n",
    "print(\"SWE count:\", swe_question)\n",
    "print(\"NO count:\", no_question)\n",
    "print(\"TOTAL count:\", total_questions)"
   ]
  }
 ],
 "metadata": {
  "kernelspec": {
   "display_name": "Python 3",
   "language": "python",
   "name": "python3"
  },
  "language_info": {
   "codemirror_mode": {
    "name": "ipython",
    "version": 3
   },
   "file_extension": ".py",
   "mimetype": "text/x-python",
   "name": "python",
   "nbconvert_exporter": "python",
   "pygments_lexer": "ipython3",
   "version": "3.12.1"
  }
 },
 "nbformat": 4,
 "nbformat_minor": 2
}
