{
 "cells": [
  {
   "cell_type": "markdown",
   "metadata": {},
   "source": [
    "Text"
   ]
  },
  {
   "cell_type": "code",
   "execution_count": 1,
   "metadata": {},
   "outputs": [
    {
     "name": "stdout",
     "output_type": "stream",
     "text": [
      "      Progress Priority  Start date Labels\n",
      "0  Not started   Medium         NaN    NaN\n",
      "1  Not started   Medium         NaN    NaN\n",
      "2  Not started   Medium         NaN    NaN\n",
      "3  Not started   Medium         NaN    NaN\n",
      "4  Not started      Low  24/03/2025   Blue\n",
      "       Progress   Priority  Start date  Labels\n",
      "4   Not started        Low  24/03/2025    Blue\n",
      "5   Not started  Important  21/03/2025    Blue\n",
      "6   Not started  Important  21/03/2025    Blue\n",
      "7   Not started  Important  21/03/2025    Blue\n",
      "8   Not started     Medium  21/03/2025  Yellow\n",
      "9   Not started        Low  21/03/2025  Yellow\n",
      "10  Not started     Medium  20/03/2025    Blue\n",
      "11  Not started        Low  20/03/2025    Blue\n",
      "13  Not started  Important  20/03/2025  Yellow\n",
      "15  In progress     Medium  19/03/2025    Blue\n",
      "Progress      object\n",
      "Priority      object\n",
      "Start date    object\n",
      "Labels        object\n",
      "dtype: object\n",
      "Progress      object\n",
      "Priority      object\n",
      "Start date    object\n",
      "Labels        object\n",
      "dtype: object\n",
      "      Progress   Priority           Start date Labels\n",
      "4  Not started        Low  2025-03-24 00:00:00   Blue\n",
      "5  Not started  Important  2025-03-21 00:00:00   Blue\n",
      "6  Not started  Important  2025-03-21 00:00:00   Blue\n",
      "3 countries added - No need for changes\n",
      "First date: 2025-03-03 00:00:00\n",
      "Last date: 2025-03-24 00:00:00\n",
      "FI count: 30\n",
      "SWE count: 9\n",
      "NO count: 2\n",
      "TOTAL count: 41\n"
     ]
    }
   ],
   "source": [
    "# Run the 1_functions.ipynb to load all functions\n",
    "%run \"1_cleaning.ipynb\""
   ]
  },
  {
   "cell_type": "markdown",
   "metadata": {},
   "source": [
    "Start date (X) / Labels Count (Y) = Line Chart"
   ]
  },
  {
   "cell_type": "code",
   "execution_count": 2,
   "metadata": {},
   "outputs": [],
   "source": [
    "# def line_chart ():"
   ]
  },
  {
   "cell_type": "markdown",
   "metadata": {},
   "source": [
    "Progress = Pie Chart"
   ]
  },
  {
   "cell_type": "code",
   "execution_count": 3,
   "metadata": {},
   "outputs": [],
   "source": [
    "# def pie_chart ():"
   ]
  },
  {
   "cell_type": "markdown",
   "metadata": {},
   "source": [
    "Priority Count (High, Medium, Low) = Bar Chart / Histogram"
   ]
  },
  {
   "cell_type": "code",
   "execution_count": 4,
   "metadata": {},
   "outputs": [],
   "source": [
    "# def bar_chart ():"
   ]
  }
 ],
 "metadata": {
  "kernelspec": {
   "display_name": "Python 3",
   "language": "python",
   "name": "python3"
  },
  "language_info": {
   "codemirror_mode": {
    "name": "ipython",
    "version": 3
   },
   "file_extension": ".py",
   "mimetype": "text/x-python",
   "name": "python",
   "nbconvert_exporter": "python",
   "pygments_lexer": "ipython3",
   "version": "3.12.1"
  }
 },
 "nbformat": 4,
 "nbformat_minor": 2
}
