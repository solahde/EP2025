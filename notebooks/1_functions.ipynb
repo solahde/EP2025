{
 "cells": [
  {
   "cell_type": "markdown",
   "metadata": {},
   "source": [
    "Setting up the dataframe"
   ]
  },
  {
   "cell_type": "code",
   "execution_count": 2,
   "metadata": {},
   "outputs": [],
   "source": [
    "import pandas as pd"
   ]
  },
  {
   "cell_type": "code",
   "execution_count": null,
   "metadata": {},
   "outputs": [],
   "source": [
    "df_raw = pd.read_excel(\"../data/xxx.xlsx\")"
   ]
  },
  {
   "cell_type": "code",
   "execution_count": 5,
   "metadata": {},
   "outputs": [
    {
     "data": {
      "text/plain": [
       "Index(['Task ID', 'Task Name', 'Bucket Name', 'Progress', 'Priority',\n",
       "       'Assigned To', 'Created By', 'Created Date', 'Start date', 'Due date',\n",
       "       'Is Recurring', 'Late', 'Completed Date', 'Completed By',\n",
       "       'Completed Checklist Items', 'Checklist Items', 'Labels',\n",
       "       'Description'],\n",
       "      dtype='object')"
      ]
     },
     "execution_count": 5,
     "metadata": {},
     "output_type": "execute_result"
    }
   ],
   "source": [
    "columns_raw = df_raw.columns\n",
    "columns_raw"
   ]
  },
  {
   "cell_type": "code",
   "execution_count": 8,
   "metadata": {},
   "outputs": [
    {
     "name": "stdout",
     "output_type": "stream",
     "text": [
      "      Progress Priority  Start date Labels\n",
      "0  Not started   Medium         NaN    NaN\n",
      "1  Not started   Medium         NaN    NaN\n",
      "2  Not started   Medium         NaN    NaN\n",
      "3  Not started   Medium         NaN    NaN\n",
      "4  Not started      Low  24/03/2025   Blue\n"
     ]
    }
   ],
   "source": [
    "df = df_raw[[\"Progress\",\"Priority\",\"Start date\",\"Labels\"]]\n",
    "print(df.head())"
   ]
  },
  {
   "cell_type": "code",
   "execution_count": 9,
   "metadata": {},
   "outputs": [
    {
     "name": "stdout",
     "output_type": "stream",
     "text": [
      "       Progress   Priority  Start date  Labels\n",
      "4   Not started        Low  24/03/2025    Blue\n",
      "5   Not started  Important  21/03/2025    Blue\n",
      "6   Not started  Important  21/03/2025    Blue\n",
      "7   Not started  Important  21/03/2025    Blue\n",
      "8   Not started     Medium  21/03/2025  Yellow\n",
      "9   Not started        Low  21/03/2025  Yellow\n",
      "10  Not started     Medium  20/03/2025    Blue\n",
      "11  Not started        Low  20/03/2025    Blue\n",
      "13  Not started  Important  20/03/2025  Yellow\n",
      "15  In progress     Medium  19/03/2025    Blue\n"
     ]
    }
   ],
   "source": [
    "df_cleaned = df.dropna()\n",
    "print(df_cleaned.head(10))"
   ]
  },
  {
   "cell_type": "code",
   "execution_count": null,
   "metadata": {},
   "outputs": [
    {
     "name": "stdout",
     "output_type": "stream",
     "text": [
      "Progress      object\n",
      "Priority      object\n",
      "Start date    object\n",
      "Labels        object\n",
      "dtype: object\n"
     ]
    }
   ],
   "source": [
    "print(df_cleaned.dtypes)"
   ]
  },
  {
   "cell_type": "code",
   "execution_count": 12,
   "metadata": {},
   "outputs": [
    {
     "name": "stdout",
     "output_type": "stream",
     "text": [
      "Progress              object\n",
      "Priority              object\n",
      "Start date    datetime64[ns]\n",
      "Labels                object\n",
      "dtype: object\n",
      "      Progress   Priority Start date Labels\n",
      "4  Not started        Low 2025-03-24   Blue\n",
      "5  Not started  Important 2025-03-21   Blue\n",
      "6  Not started  Important 2025-03-21   Blue\n"
     ]
    }
   ],
   "source": [
    "df_cleaned.loc[:, \"Start date\"] = pd.to_datetime(df_cleaned[\"Start date\"], format=\"%d/%m/%Y\")\n",
    "print(df_cleaned.dtypes)\n",
    "print(df_cleaned.head(3))"
   ]
  }
 ],
 "metadata": {
  "kernelspec": {
   "display_name": "Python 3",
   "language": "python",
   "name": "python3"
  },
  "language_info": {
   "codemirror_mode": {
    "name": "ipython",
    "version": 3
   },
   "file_extension": ".py",
   "mimetype": "text/x-python",
   "name": "python",
   "nbconvert_exporter": "python",
   "pygments_lexer": "ipython3",
   "version": "3.12.1"
  }
 },
 "nbformat": 4,
 "nbformat_minor": 2
}
