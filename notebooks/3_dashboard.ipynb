{
 "cells": [
  {
   "cell_type": "markdown",
   "metadata": {},
   "source": [
    "Text"
   ]
  },
  {
   "cell_type": "code",
   "execution_count": 1,
   "metadata": {},
   "outputs": [
    {
     "name": "stdout",
     "output_type": "stream",
     "text": [
      "      Progress Priority  Start date Labels\n",
      "0  Not started   Medium         NaN    NaN\n",
      "1  Not started   Medium         NaN    NaN\n",
      "2  Not started   Medium         NaN    NaN\n",
      "3  Not started   Medium         NaN    NaN\n",
      "4  Not started      Low  24/03/2025   Blue\n",
      "       Progress   Priority  Start date  Labels\n",
      "4   Not started        Low  24/03/2025    Blue\n",
      "5   Not started  Important  21/03/2025    Blue\n",
      "6   Not started  Important  21/03/2025    Blue\n",
      "7   Not started  Important  21/03/2025    Blue\n",
      "8   Not started     Medium  21/03/2025  Yellow\n",
      "9   Not started        Low  21/03/2025  Yellow\n",
      "10  Not started     Medium  20/03/2025    Blue\n",
      "11  Not started        Low  20/03/2025    Blue\n",
      "13  Not started  Important  20/03/2025  Yellow\n",
      "15  In progress     Medium  19/03/2025    Blue\n",
      "Progress      object\n",
      "Priority      object\n",
      "Start date    object\n",
      "Labels        object\n",
      "dtype: object\n",
      "Progress              object\n",
      "Priority              object\n",
      "Start date    datetime64[ns]\n",
      "Labels                object\n",
      "dtype: object\n",
      "      Progress   Priority Start date Labels\n",
      "4  Not started        Low 2025-03-24   Blue\n",
      "5  Not started  Important 2025-03-21   Blue\n",
      "6  Not started  Important 2025-03-21   Blue\n",
      "3 countries added - No need for changes\n",
      "First date: 2025-03-03 00:00:00\n",
      "Last date: 2025-03-24 00:00:00\n",
      "FI count: 30\n",
      "SWE count: 9\n",
      "NO count: 2\n",
      "TOTAL count: 41\n"
     ]
    },
    {
     "name": "stderr",
     "output_type": "stream",
     "text": [
      "/tmp/ipykernel_35745/672462750.py:2: SettingWithCopyWarning: \n",
      "A value is trying to be set on a copy of a slice from a DataFrame.\n",
      "Try using .loc[row_indexer,col_indexer] = value instead\n",
      "\n",
      "See the caveats in the documentation: https://pandas.pydata.org/pandas-docs/stable/user_guide/indexing.html#returning-a-view-versus-a-copy\n",
      "  df_cleaned[\"Start date\"] = df_cleaned[\"Start date\"].astype(\"datetime64[ns]\")  # Ensures it's fully datetime\n"
     ]
    }
   ],
   "source": [
    "# Run the 1_functions.ipynb to load all functions\n",
    "%run \"2_functions.ipynb\""
   ]
  },
  {
   "cell_type": "code",
   "execution_count": 2,
   "metadata": {},
   "outputs": [
    {
     "ename": "NameError",
     "evalue": "name 'print_line_chart' is not defined",
     "output_type": "error",
     "traceback": [
      "\u001b[31m---------------------------------------------------------------------------\u001b[39m",
      "\u001b[31mNameError\u001b[39m                                 Traceback (most recent call last)",
      "\u001b[36mCell\u001b[39m\u001b[36m \u001b[39m\u001b[32mIn[2]\u001b[39m\u001b[32m, line 1\u001b[39m\n\u001b[32m----> \u001b[39m\u001b[32m1\u001b[39m \u001b[43mprint_line_chart\u001b[49m.show()\n\u001b[32m      2\u001b[39m print_pie_chart.show()\n\u001b[32m      3\u001b[39m print_bar_chart_1.show()\n",
      "\u001b[31mNameError\u001b[39m: name 'print_line_chart' is not defined"
     ]
    }
   ],
   "source": [
    "print_line_chart.show()\n",
    "print_pie_chart.show()\n",
    "print_bar_chart_1.show()\n",
    "print_bar_chart_2.show()"
   ]
  }
 ],
 "metadata": {
  "kernelspec": {
   "display_name": "Python 3",
   "language": "python",
   "name": "python3"
  },
  "language_info": {
   "codemirror_mode": {
    "name": "ipython",
    "version": 3
   },
   "file_extension": ".py",
   "mimetype": "text/x-python",
   "name": "python",
   "nbconvert_exporter": "python",
   "pygments_lexer": "ipython3",
   "version": "3.12.1"
  }
 },
 "nbformat": 4,
 "nbformat_minor": 2
}
